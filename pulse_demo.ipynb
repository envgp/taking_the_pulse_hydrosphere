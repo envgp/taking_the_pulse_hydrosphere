{
 "cells": [
  {
   "cell_type": "code",
   "execution_count": 1,
   "id": "c2f68f99",
   "metadata": {},
   "outputs": [],
   "source": [
    "import ee\n",
    "import numpy as np\n",
    "import pandas as pd\n",
    "import geopandas as gp\n",
    "from tqdm import tqdm\n",
    "\n",
    "import matplotlib.pyplot as plt\n",
    "\n",
    "ee.Initialize()"
   ]
  },
  {
   "cell_type": "code",
   "execution_count": 2,
   "id": "4fda0c97",
   "metadata": {},
   "outputs": [],
   "source": [
    "# Set up the data objects to query EE\n",
    "data = {}\n",
    "\n",
    "# Image collection, variable name, scaling factor, spatial res\n",
    "data['prism'] = [ee.ImageCollection(\"OREGONSTATE/PRISM/AN81m\"), \"ppt\", 1, 4000]\n",
    "data['persiann'] = [ee.ImageCollection(\"NOAA/PERSIANN-CDR\"), \"precipitation\", 1, 25000]\n",
    "data['gpm'] = [ee.ImageCollection(\"NASA/GPM_L3/IMERG_MONTHLY_V06\"), \"precipitation\", 720, 12500] # "
   ]
  },
  {
   "cell_type": "code",
   "execution_count": 3,
   "id": "a91790b8",
   "metadata": {},
   "outputs": [
    {
     "data": {
      "text/plain": [
       "<AxesSubplot:>"
      ]
     },
     "execution_count": 3,
     "metadata": {},
     "output_type": "execute_result"
    },
    {
     "data": {
      "image/png": "[encoded data removed]",
      "text/plain": [
       "<Figure size 432x288 with 1 Axes>"
      ]
     },
     "metadata": {
      "needs_background": "light"
     },
     "output_type": "display_data"
    }
   ],
   "source": [
    "gdf = gp.read_file(\"../shape/cv.shp\")\n",
    "gdf.plot()"
   ]
  },
  {
   "cell_type": "code",
   "execution_count": 4,
   "id": "a3fe656a",
   "metadata": {},
   "outputs": [],
   "source": [
    "# Functions \n",
    "\n",
    "# Convert gdf to earth engine object \n",
    "def gdf_to_ee_poly(gdf, simplify = True):\n",
    "\n",
    "\tif simplify:\n",
    "\t\tgdf = gdf.geometry.simplify(0.01)\n",
    "\t\n",
    "\tlls = gdf.geometry.iloc[0]\n",
    "\tx,y = lls.exterior.coords.xy\n",
    "\tcoords = [list(zip(x,y))]\n",
    "\tarea = ee.Geometry.Polygon(coords)\n",
    "\n",
    "\treturn area\n",
    "\n",
    "def get_ims(dataset, startdate,enddate, area, return_dates = False, table = False, monthly_mean = False,  monthly_sum = False):\n",
    "\t\n",
    "\t'''\n",
    "\tReturns gridded images for EE datasets \n",
    "\t'''\n",
    "\n",
    "\tif monthly_mean:\n",
    "\t\tif monthly_sum:\n",
    "\t\t\traise ValueError(\"cannot perform mean and sum reduction at the same time\")              \n",
    "\n",
    "\tImageCollection = dataset[0]\n",
    "\tvar = dataset[1]\n",
    "\tscaling_factor = dataset[2]\n",
    "\tnative_res = dataset[3]\n",
    "\n",
    "\tdt_idx = pd.date_range(startdate,enddate, freq='MS')\n",
    "\tims = []\n",
    "\tseq = ee.List.sequence(0, len(dt_idx)-1)\n",
    "\tnum_steps = seq.getInfo()\n",
    "\n",
    "\t# TODO: Make this one loop ?\n",
    "\n",
    "\tprint(\"processing:\")\n",
    "\tprint(\"{}\".format(ImageCollection.first().getInfo()['id']))\n",
    "\n",
    "\tfor i in tqdm(num_steps):\n",
    "\n",
    "\t\tstart = ee.Date(startdate).advance(i, 'month')\n",
    "\t\tend = start.advance(1, 'month');\n",
    "\n",
    "\t\tif monthly_mean:\n",
    "\t\t\tim1 = ee.ImageCollection(ImageCollection).select(var).filterDate(start, end).mean().set('system:time_start', end.millis())\n",
    "\t\t\tim = ee.ImageCollection(im1)\n",
    "\t\telif monthly_sum:\n",
    "\t\t\tim1 = ee.ImageCollection(ImageCollection).select(var).filterDate(start, end).sum().set('system:time_start', end.millis())\n",
    "\t\t\tim = ee.ImageCollection(im1)\n",
    "\t\telse:\n",
    "\t\t\tim = ee.ImageCollection(ImageCollection).select(var).filterDate(start, end).set('system:time_start', end.millis())\n",
    "\t\t\n",
    "\t\t# This try / catch is probably not great, but needs to be done for e.g. grace which is missing random months \n",
    "\t\ttry:\n",
    "\t\t\tresult = im.getRegion(area,native_res,\"epsg:4326\").getInfo()\n",
    "\t\t\tims.append(result)\n",
    "\t\texcept:\n",
    "\t\t\tcontinue\n",
    "\t\t\n",
    "\n",
    "\tresults = []\n",
    "\tdates = []\n",
    "\n",
    "\tprint(\"postprocesing\")\n",
    "\n",
    "\tfor im in tqdm(ims):\n",
    "\t\theader, data = im[0], im[1:]\n",
    "\n",
    "\t\tdf = pd.DataFrame(np.column_stack(data).T, columns = header)\n",
    "\t\tdf.latitude = pd.to_numeric(df.latitude)\n",
    "\t\tdf.longitude = pd.to_numeric(df.longitude)\n",
    "\t\tdf[var] = pd.to_numeric(df[var])\n",
    "\n",
    "\t\tif table:\n",
    "\t\t\tresults.append(df)\n",
    "\t\t\tcontinue\n",
    "\n",
    "\t\timages = []\n",
    "\n",
    "\t\tfor idx,i in enumerate(df.id.unique()):\n",
    "\n",
    "\t\t\tt1 = df[df.id==i]\n",
    "\t\t\tarr = array_from_df(t1,var)\n",
    "\t\t\tarr[arr == 0] = np.nan\n",
    "\t\t\timages.append(arr*scaling_factor)# This is the only good place to apply the scaling factor. \n",
    "\n",
    "\t\t\tif return_dates:\n",
    "\t\t\t\tdate = df.time.iloc[idx]\n",
    "\t\t\t\tdates.append(datetime.datetime.fromtimestamp(date/1000.0))\n",
    "\n",
    "\t\tresults.append(images) \n",
    "\n",
    "\tprint(\"====COMPLETE=====\")\n",
    "\n",
    "\t# Unpack the list of results \n",
    "\tif return_dates:\n",
    "\t\treturn [ [item for sublist in results for item in sublist], dates]\n",
    "\telse:   \n",
    "\t\treturn [item for sublist in results for item in sublist] \n",
    "    \n",
    "def array_from_df(df, variable):    \n",
    "\n",
    "\t'''\n",
    "\tConvets a pandas df with lat, lon, variable to a numpy array \n",
    "\t'''\n",
    "\n",
    "\t# get data from df as arrays\n",
    "\tlons = np.array(df.longitude)\n",
    "\tlats = np.array(df.latitude)\n",
    "\tdata = np.array(df[variable]) # Set var here \n",
    "\t\t\t\t\t\t\t\t\t\t\t  \n",
    "\t# get the unique coordinates\n",
    "\tuniqueLats = np.unique(lats)\n",
    "\tuniqueLons = np.unique(lons)\n",
    "\n",
    "\t# get number of columns and rows from coordinates\n",
    "\tncols = len(uniqueLons)    \n",
    "\tnrows = len(uniqueLats)\n",
    "\n",
    "\t# determine pixelsizes\n",
    "\tys = uniqueLats[1] - uniqueLats[0] \n",
    "\txs = uniqueLons[1] - uniqueLons[0]\n",
    "\n",
    "\t# create an array with dimensions of image\n",
    "\tarr = np.zeros([nrows, ncols], np.float32)\n",
    "\n",
    "\t# fill the array with values\n",
    "\tcounter =0\n",
    "\tfor y in range(0,len(arr),1):\n",
    "\t\tfor x in range(0,len(arr[0]),1):\n",
    "\t\t\tif lats[counter] == uniqueLats[y] and lons[counter] == uniqueLons[x] and counter < len(lats)-1:\n",
    "\t\t\t\tcounter+=1\n",
    "\t\t\t\tarr[len(uniqueLats)-1-y,x] = data[counter] # we start from lower left corner\n",
    "\t\n",
    "\treturn arr\n",
    "\n",
    "def write_raster(array,gdf,outfn):\n",
    "\t'''\n",
    "\tconverts a numpy array and a geopandas gdf to a geotiff\n",
    "\tData values are stored in np.array\n",
    "\tspatial coordinates stored in gdf\n",
    "\toutfn - outpath\n",
    "\t'''\n",
    "\t\n",
    "\txmin, ymin = gdf.bounds.minx.values[0], gdf.bounds.miny.values[0]\n",
    "\txmax, ymax = gdf.bounds.maxx.values[0], gdf.bounds.maxy.values[0]\n",
    "\tnrows, ncols = array.shape\n",
    "\txres = (xmax-xmin)/float(ncols)\n",
    "\tyres = (ymax-ymin)/float(nrows)\n",
    "\tgeotransform =(xmin,xres,0,ymax,0, -yres)   \n",
    "\n",
    "\toutput_raster = gdal.GetDriverByName('GTiff').Create(outfn,ncols, nrows, 1 , gdal.GDT_Float32)  # Open the file\n",
    "\toutput_raster.SetGeoTransform(geotransform)  # Specify coords\n",
    "\tsrs = osr.SpatialReference()                 # Establish encoding\n",
    "\tsrs.ImportFromEPSG(4326)                     # WGS84 lat long\n",
    "\toutput_raster.SetProjection(srs.ExportToWkt() )   # Export coordinate system \n",
    "\toutput_raster.GetRasterBand(1).WriteArray(array)   # Write array to raster\n",
    "\t\n",
    "\tprint(\"wrote {}\".format(outfn))\n",
    "\treturn outfn\n"
   ]
  },
  {
   "cell_type": "code",
   "execution_count": 5,
   "id": "d715ce55",
   "metadata": {},
   "outputs": [
    {
     "name": "stdout",
     "output_type": "stream",
     "text": [
      "processing:\n"
     ]
    },
    {
     "name": "stderr",
     "output_type": "stream",
     "text": [
      "\r",
      "  0%|          | 0/12 [00:00<?, ?it/s]"
     ]
    },
    {
     "name": "stdout",
     "output_type": "stream",
     "text": [
      "NASA/GPM_L3/IMERG_MONTHLY_V06/20000601000000\n"
     ]
    },
    {
     "name": "stderr",
     "output_type": "stream",
     "text": [
      "100%|██████████| 12/12 [00:03<00:00,  3.72it/s]\n",
      "100%|██████████| 12/12 [00:00<00:00, 71.56it/s]"
     ]
    },
    {
     "name": "stdout",
     "output_type": "stream",
     "text": [
      "postprocesing\n",
      "====COMPLETE=====\n"
     ]
    },
    {
     "name": "stderr",
     "output_type": "stream",
     "text": [
      "\n"
     ]
    }
   ],
   "source": [
    "# Convert gdf to ee object\n",
    "area = gdf_to_ee_poly(gdf)\n",
    "\n",
    "# specify start / end \n",
    "startdate = '2019-01-01'\n",
    "enddate = '2019-12-31'\n",
    "\n",
    "prism = get_ims(data['gpm'], startdate, enddate, area)"
   ]
  },
  {
   "cell_type": "code",
   "execution_count": 6,
   "id": "1dcc58d7",
   "metadata": {},
   "outputs": [
    {
     "name": "stderr",
     "output_type": "stream",
     "text": [
      "<ipython-input-6-89a32555be6b>:2: RuntimeWarning: Mean of empty slice\n",
      "  annual_mean = np.nanmean(np.dstack(prism), axis = 2)\n"
     ]
    }
   ],
   "source": [
    "# stack the ims and calc mean\n",
    "annual_mean = np.nanmean(np.dstack(prism), axis = 2)\n",
    "timeseries = np.array([np.nanmean(x) for x in prism])"
   ]
  },
  {
   "cell_type": "code",
   "execution_count": 7,
   "id": "78a1a78e",
   "metadata": {},
   "outputs": [
    {
     "data": {
      "image/png": "[encoded data removed]",
      "text/plain": [
       "<Figure size 432x288 with 2 Axes>"
      ]
     },
     "metadata": {
      "needs_background": "light"
     },
     "output_type": "display_data"
    }
   ],
   "source": [
    "# plot\n",
    "plt.imshow(annual_mean)\n",
    "plt.colorbar()\n",
    "plt.axis('off')\n",
    "plt.show()"
   ]
  },
  {
   "cell_type": "code",
   "execution_count": 8,
   "id": "ebe633ff",
   "metadata": {},
   "outputs": [
    {
     "data": {
      "text/plain": [
       "[<matplotlib.lines.Line2D at 0x7ff45075d610>]"
      ]
     },
     "execution_count": 8,
     "metadata": {},
     "output_type": "execute_result"
    },
    {
     "data": {
      "image/png": "[encoded data removed]",
      "text/plain": [
       "<Figure size 432x288 with 1 Axes>"
      ]
     },
     "metadata": {
      "needs_background": "light"
     },
     "output_type": "display_data"
    }
   ],
   "source": [
    "dates = pd.date_range(startdate,enddate, freq = \"M\")\n",
    "plt.plot(dates, timeseries)"
   ]
  },
  {
   "cell_type": "code",
   "execution_count": null,
   "id": "037f7ae5",
   "metadata": {},
   "outputs": [],
   "source": [
    "# write \n",
    "rs.write_raster(annual_mean,gdf,\"../prism.tif\")"
   ]
  },
  {
   "cell_type": "code",
   "execution_count": null,
   "id": "871768a0",
   "metadata": {},
   "outputs": [],
   "source": []
  }
 ],
 "metadata": {
  "kernelspec": {
   "display_name": "Python 3",
   "language": "python",
   "name": "python3"
  },
  "language_info": {
   "codemirror_mode": {
    "name": "ipython",
    "version": 3
   },
   "file_extension": ".py",
   "mimetype": "text/x-python",
   "name": "python",
   "nbconvert_exporter": "python",
   "pygments_lexer": "ipython3",
   "version": "3.8.10"
  }
 },
 "nbformat": 4,
 "nbformat_minor": 5
}
